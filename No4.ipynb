{
 "cells": [
  {
   "cell_type": "code",
   "execution_count": 7,
   "metadata": {},
   "outputs": [
    {
     "name": "stdout",
     "output_type": "stream",
     "text": [
      "Masukan Panjang (Harus Ganjil) : 15\n",
      "* = = = = = = = = = = = = = * \n",
      "* = = = = = = = = = = = = = * \n",
      "* = = = = = = = = = = = = = * \n",
      "* = = = = = = = = = = = = = * \n",
      "* = = = = = = = = = = = = = * \n",
      "* = = = = = = = = = = = = = * \n",
      "* = = = = = = = = = = = = = * \n",
      "* * * * * * * * * * * * * * * \n",
      "* = = = = = = = = = = = = = * \n",
      "* = = = = = = = = = = = = = * \n",
      "* = = = = = = = = = = = = = * \n",
      "* = = = = = = = = = = = = = * \n",
      "* = = = = = = = = = = = = = * \n",
      "* = = = = = = = = = = = = = * \n",
      "* = = = = = = = = = = = = = * \n"
     ]
    }
   ],
   "source": [
    "panjang = input('Masukan Panjang (Harus Ganjil) : ')\n",
    "n = int(panjang)\n",
    "for row in range(n):\n",
    "    for col in range(n):\n",
    "        if col==0 or col==n-1 or (row== (n-1)/2 and (col>0 and col<n)):\n",
    "            print(\"*\",end=\" \")\n",
    "        else:\n",
    "            print(end=\"= \")\n",
    "    print()"
   ]
  },
  {
   "cell_type": "code",
   "execution_count": null,
   "metadata": {},
   "outputs": [],
   "source": []
  }
 ],
 "metadata": {
  "kernelspec": {
   "display_name": "Python 3",
   "language": "python",
   "name": "python3"
  },
  "language_info": {
   "codemirror_mode": {
    "name": "ipython",
    "version": 3
   },
   "file_extension": ".py",
   "mimetype": "text/x-python",
   "name": "python",
   "nbconvert_exporter": "python",
   "pygments_lexer": "ipython3",
   "version": "3.7.3"
  }
 },
 "nbformat": 4,
 "nbformat_minor": 2
}
