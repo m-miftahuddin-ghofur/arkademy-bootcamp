{
 "cells": [
  {
   "cell_type": "code",
   "execution_count": 4,
   "metadata": {},
   "outputs": [
    {
     "name": "stdout",
     "output_type": "stream",
     "text": [
      "Masukan Kalimat :banananana\n",
      "Masukan Kata :nana\n",
      "Jumlah : 4\n"
     ]
    }
   ],
   "source": [
    "# define string\n",
    "string = input('Masukan Kalimat :')\n",
    "substring = input('Masukan Kata :')\n",
    "\n",
    "def reverse(s): \n",
    "  str = \"\" \n",
    "  for i in s: \n",
    "    str = i + str\n",
    "  return str\n",
    "\n",
    "terbalik = reverse(string)\n",
    "# terbalik2 = reverse(substring)\n",
    "\n",
    "count = string.count(substring)\n",
    "count2 = terbalik.count(substring)\n",
    "\n",
    "# print count\n",
    "print(\"Jumlah :\", count + count2)"
   ]
  },
  {
   "cell_type": "code",
   "execution_count": null,
   "metadata": {},
   "outputs": [],
   "source": []
  },
  {
   "cell_type": "code",
   "execution_count": null,
   "metadata": {},
   "outputs": [],
   "source": []
  }
 ],
 "metadata": {
  "kernelspec": {
   "display_name": "Python 3",
   "language": "python",
   "name": "python3"
  },
  "language_info": {
   "codemirror_mode": {
    "name": "ipython",
    "version": 3
   },
   "file_extension": ".py",
   "mimetype": "text/x-python",
   "name": "python",
   "nbconvert_exporter": "python",
   "pygments_lexer": "ipython3",
   "version": "3.7.3"
  }
 },
 "nbformat": 4,
 "nbformat_minor": 2
}
